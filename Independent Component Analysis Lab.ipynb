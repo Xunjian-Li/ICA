{
 "cells": [
  {
   "cell_type": "markdown",
   "metadata": {},
   "source": [
    "# Independent Component Analysis Lab\n",
    "\n",
    "In this notebook, we'll use Independent Component Analysis to retrieve original signals from three observations each of which contains a different mix of the original signals. This is the same problem explained in the ICA video.\n",
    "\n",
    "## Dataset\n",
    "Let's begin by looking at the dataset we have. We have three WAVE files, each of which is a mix, as we've mentioned. If you haven't worked with audio files in python before, that's okay, they basically boil down to being lists of floats.\n",
    "\n",
    "\n",
    "Let's begin by loading our first audio file, **[ICA mix 1.wav](ICA mix 1.wav)** [click to listen to the file]:"
   ]
  },
  {
   "cell_type": "code",
   "execution_count": 1,
   "metadata": {
    "ExecuteTime": {
     "end_time": "2025-04-09T23:29:28.156482Z",
     "start_time": "2025-04-09T23:29:28.137788Z"
    }
   },
   "outputs": [
    {
     "ename": "NameError",
     "evalue": "name 'sf' is not defined",
     "output_type": "error",
     "traceback": [
      "\u001b[0;31m---------------------------------------------------------------------------\u001b[0m",
      "\u001b[0;31mNameError\u001b[0m                                 Traceback (most recent call last)",
      "Cell \u001b[0;32mIn[1], line 5\u001b[0m\n\u001b[1;32m      2\u001b[0m \u001b[38;5;28;01mimport\u001b[39;00m \u001b[38;5;21;01mwave\u001b[39;00m\n\u001b[1;32m      4\u001b[0m \u001b[38;5;66;03m# Read the wave file\u001b[39;00m\n\u001b[0;32m----> 5\u001b[0m mix_1_wave, sr \u001b[38;5;241m=\u001b[39m \u001b[43msf\u001b[49m\u001b[38;5;241m.\u001b[39mread(\u001b[38;5;124m'\u001b[39m\u001b[38;5;124m./src/datasets/ICA_mix_1.wav\u001b[39m\u001b[38;5;124m'\u001b[39m)\n\u001b[1;32m      7\u001b[0m \u001b[38;5;28;01mif\u001b[39;00m mix_1_wave\u001b[38;5;241m.\u001b[39mdtype \u001b[38;5;129;01min\u001b[39;00m (np\u001b[38;5;241m.\u001b[39mint16, np\u001b[38;5;241m.\u001b[39mint32, np\u001b[38;5;241m.\u001b[39muint8):\n\u001b[1;32m      8\u001b[0m     max_val \u001b[38;5;241m=\u001b[39m np\u001b[38;5;241m.\u001b[39miinfo(mix_1_wave\u001b[38;5;241m.\u001b[39mdtype)\u001b[38;5;241m.\u001b[39mmax\n",
      "\u001b[0;31mNameError\u001b[0m: name 'sf' is not defined"
     ]
    }
   ],
   "source": [
    "import numpy as np\n",
    "import wave\n",
    "\n",
    "# Read the wave file\n",
    "mix_1_wave, sr = sf.read('./src/datasets/ICA_mix_1.wav')\n",
    "\n",
    "if mix_1_wave.dtype in (np.int16, np.int32, np.uint8):\n",
    "    max_val = np.iinfo(mix_1_wave.dtype).max\n",
    "    mix_1_wave = mix_1_wave.astype(np.float32) / max_val\n",
    "else:\n",
    "    mix_1_wave = mix_1_wave.astype(np.float32)\n",
    "mix_1_wave = np.clip(mix_1_wave, -1.0, 1.0)\n",
    "\n",
    "mix_2_wave, sr = sf.read('./src/datasets/ICA_mix_2.wav')\n",
    "\n",
    "if mix_2_wave.dtype in (np.int16, np.int32, np.uint8):\n",
    "    max_val = np.iinfo(mix_2_wave.dtype).max\n",
    "    mix_2_wave = mix_2_wave.astype(np.float32) / max_val\n",
    "else:\n",
    "    mix_2_wave = mix_2_wave.astype(np.float32)\n",
    "mix_2_wave = np.clip(mix_2_wave, -1.0, 1.0)\n",
    "\n",
    "\n",
    "mix_3_wave, sr = sf.read('./src/datasets/ICA_mix_3.wav')\n",
    "\n",
    "if mix_3_wave.dtype in (np.int16, np.int32, np.uint8):\n",
    "    max_val = np.iinfo(mix_3_wave.dtype).max\n",
    "    mix_3_wave = mix_3_wave.astype(np.float32) / max_val\n",
    "else:\n",
    "    mix_3_wave = mix_3_wave.astype(np.float32)\n",
    "mix_3_wave = np.clip(mix_3_wave, -1.0, 1.0)\n",
    "\n",
    "# mix_1_wave = wave.open('./src/datasets/ICA_mix_1.wav', 'r')\n"
   ]
  },
  {
   "cell_type": "code",
   "execution_count": null,
   "metadata": {},
   "outputs": [],
   "source": []
  },
  {
   "cell_type": "markdown",
   "metadata": {},
   "source": [
    "Let's peak at the parameters of the wave file to learn more about it"
   ]
  },
  {
   "cell_type": "code",
   "execution_count": 112,
   "metadata": {
    "ExecuteTime": {
     "end_time": "2025-04-09T23:24:09.684346Z",
     "start_time": "2025-04-09T23:24:09.661665Z"
    }
   },
   "outputs": [
    {
     "ename": "AttributeError",
     "evalue": "'tuple' object has no attribute 'getparams'",
     "output_type": "error",
     "traceback": [
      "\u001b[0;31m---------------------------------------------------------------------------\u001b[0m",
      "\u001b[0;31mAttributeError\u001b[0m                            Traceback (most recent call last)",
      "Cell \u001b[0;32mIn[112], line 1\u001b[0m\n\u001b[0;32m----> 1\u001b[0m \u001b[43mmix_1_wave\u001b[49m\u001b[38;5;241;43m.\u001b[39;49m\u001b[43mgetparams\u001b[49m()\n",
      "\u001b[0;31mAttributeError\u001b[0m: 'tuple' object has no attribute 'getparams'"
     ]
    }
   ],
   "source": [
    "mix_1_wave.getparams()"
   ]
  },
  {
   "cell_type": "markdown",
   "metadata": {},
   "source": [
    "So this file has only channel (so it's mono sound). It has a frame rate of 44100, which means each second of sound is represented by 44100 integers (integers because the file is in the common PCM 16-bit format). The file has a total of 264515 integers/frames, which means its length in seconds is:"
   ]
  },
  {
   "cell_type": "code",
   "execution_count": 106,
   "metadata": {
    "ExecuteTime": {
     "end_time": "2025-04-09T23:23:27.625229Z",
     "start_time": "2025-04-09T23:23:27.618287Z"
    }
   },
   "outputs": [
    {
     "data": {
      "text/plain": [
       "5.998072562358277"
      ]
     },
     "execution_count": 106,
     "metadata": {},
     "output_type": "execute_result"
    }
   ],
   "source": [
    "264515/44100"
   ]
  },
  {
   "cell_type": "markdown",
   "metadata": {},
   "source": [
    "Let's extract the frames of the wave file, which will be a part of the dataset we'll run ICA against:"
   ]
  },
  {
   "cell_type": "code",
   "execution_count": 107,
   "metadata": {
    "ExecuteTime": {
     "end_time": "2025-04-09T23:23:29.814570Z",
     "start_time": "2025-04-09T23:23:29.808836Z"
    }
   },
   "outputs": [
    {
     "name": "stderr",
     "output_type": "stream",
     "text": [
      "/var/folders/qz/71chp1j54j3c5wv05ssrqpdr0000gn/T/ipykernel_64430/3856644488.py:3: DeprecationWarning: The binary mode of fromstring is deprecated, as it behaves surprisingly on unicode inputs. Use frombuffer instead\n",
      "  signal_1 = np.fromstring(signal_1_raw, 'int16')\n"
     ]
    }
   ],
   "source": [
    "# Extract Raw Audio from Wav File\n",
    "signal_1_raw = mix_1_wave.readframes(-1)\n",
    "signal_1 = np.fromstring(signal_1_raw, 'int16')\n",
    "signal_1 = signal_1"
   ]
  },
  {
   "cell_type": "code",
   "execution_count": 108,
   "metadata": {
    "ExecuteTime": {
     "end_time": "2025-04-09T23:23:31.614356Z",
     "start_time": "2025-04-09T23:23:31.605857Z"
    }
   },
   "outputs": [
    {
     "data": {
      "text/plain": [
       "array([  879,  1268,  1460, ...,  9204,  9553, 10006], dtype=int16)"
      ]
     },
     "execution_count": 108,
     "metadata": {},
     "output_type": "execute_result"
    }
   ],
   "source": [
    "signal_1"
   ]
  },
  {
   "cell_type": "markdown",
   "metadata": {},
   "source": [
    "signal_1 is now a list of ints representing the sound contained in the first file."
   ]
  },
  {
   "cell_type": "code",
   "execution_count": 114,
   "metadata": {
    "ExecuteTime": {
     "end_time": "2025-04-09T23:24:25.498123Z",
     "start_time": "2025-04-09T23:24:25.489187Z"
    }
   },
   "outputs": [
    {
     "data": {
      "text/plain": [
       "('length: ',\n",
       " 264515,\n",
       " 'first 100 elements: ',\n",
       " array([  879,  1268,  1460,  1756,  1943,  2216,  2407,  2668,  2866,\n",
       "         3106,  3308,  3546,  3752,  3981,  4175,  4395,  4588,  4790,\n",
       "         4966,  5146,  5292,  5436,  5550,  5643,  5717,  5759,  5790,\n",
       "         5798,  5789,  5756,  5713,  5649,  5576,  5478,  5381,  5267,\n",
       "         5146,  4999,  4856,  4682,  4502,  4308,  4097,  3875,  3637,\n",
       "         3380,  3107,  2825,  2514,  2194,  1847,  1472,  1087,   671,\n",
       "          227,  -219,  -691, -1176, -1666, -2167, -2669, -3179, -3668,\n",
       "        -4170, -4643, -5116, -5559, -5985, -6380, -6765, -7105, -7422,\n",
       "        -7706, -7955, -8163, -8339, -8470, -8557, -8600, -8618, -8585,\n",
       "        -8524, -8425, -8298, -8129, -7947, -7720, -7475, -7205, -6916,\n",
       "        -6606, -6266, -5922, -5556, -5165, -4774, -4353, -3922, -3476,\n",
       "        -3021], dtype=int16))"
      ]
     },
     "execution_count": 114,
     "metadata": {},
     "output_type": "execute_result"
    }
   ],
   "source": [
    "'length: ', len(signal_1) , 'first 100 elements: ',signal_1[:100]"
   ]
  },
  {
   "cell_type": "markdown",
   "metadata": {},
   "source": [
    "If we plot this array as a line graph, we'll get the familiar wave form representation:"
   ]
  },
  {
   "cell_type": "code",
   "execution_count": 63,
   "metadata": {
    "ExecuteTime": {
     "end_time": "2025-04-09T21:46:41.037175Z",
     "start_time": "2025-04-09T21:46:40.965990Z"
    }
   },
   "outputs": [
    {
     "data": {
      "image/png": "[encoded data removed]",
      "text/plain": [
       "<Figure size 1200x200 with 1 Axes>"
      ]
     },
     "metadata": {},
     "output_type": "display_data"
    }
   ],
   "source": [
    "import matplotlib.pyplot as plt\n",
    "\n",
    "fs = mix_1_wave.getframerate()\n",
    "timing = np.linspace(0, len(signal_1)/fs, num=len(signal_1))\n",
    "\n",
    "\n",
    "plt.figure(figsize=(12,2))\n",
    "plt.title('Recording 1')\n",
    "plt.plot(timing,signal_1, c=\"#3ABFE7\")\n",
    "plt.ylim(-1, 1)\n",
    "plt.show()"
   ]
  },
  {
   "cell_type": "markdown",
   "metadata": {},
   "source": [
    "In the same way, we can now load the other two wave files, **[ICA mix 2.wav](ICA mix 2.wav)** and **[ICA mix 3.wav](ICA mix 3.wav)**"
   ]
  },
  {
   "cell_type": "code",
   "execution_count": 64,
   "metadata": {
    "ExecuteTime": {
     "end_time": "2025-04-09T21:46:51.132543Z",
     "start_time": "2025-04-09T21:46:50.984129Z"
    }
   },
   "outputs": [
    {
     "name": "stderr",
     "output_type": "stream",
     "text": [
      "/var/folders/qz/71chp1j54j3c5wv05ssrqpdr0000gn/T/ipykernel_64430/2498362119.py:5: DeprecationWarning: The binary mode of fromstring is deprecated, as it behaves surprisingly on unicode inputs. Use frombuffer instead\n",
      "  signal_2 = np.fromstring(signal_raw_2, 'int16')\n",
      "/var/folders/qz/71chp1j54j3c5wv05ssrqpdr0000gn/T/ipykernel_64430/2498362119.py:13: DeprecationWarning: The binary mode of fromstring is deprecated, as it behaves surprisingly on unicode inputs. Use frombuffer instead\n",
      "  signal_3 = np.fromstring(signal_raw_3, dtype = 'int16')\n"
     ]
    },
    {
     "data": {
      "image/png": "[encoded data removed]",
      "text/plain": [
       "<Figure size 1200x200 with 1 Axes>"
      ]
     },
     "metadata": {},
     "output_type": "display_data"
    },
    {
     "data": {
      "image/png": "[encoded data removed]",
      "text/plain": [
       "<Figure size 1200x200 with 1 Axes>"
      ]
     },
     "metadata": {},
     "output_type": "display_data"
    }
   ],
   "source": [
    "\n",
    "mix_2_wave = wave.open('./src/datasets/ICA_mix_2.wav','r')\n",
    "\n",
    "#Extract Raw Audio from Wav File\n",
    "signal_raw_2 = mix_2_wave.readframes(-1)\n",
    "signal_2 = np.fromstring(signal_raw_2, 'int16')\n",
    "signal_2 = signal_2 / 32767.0  \n",
    "\n",
    "\n",
    "mix_3_wave = wave.open('./src/datasets/ICA_mix_3.wav','r')\n",
    "\n",
    "#Extract Raw Audio from Wav File\n",
    "signal_raw_3 = mix_3_wave.readframes(-1)\n",
    "signal_3 = np.fromstring(signal_raw_3, dtype = 'int16')\n",
    "signal_3 = signal_3 / 32767.0  \n",
    "\n",
    "plt.figure(figsize=(12,2))\n",
    "plt.title('Recording 2')\n",
    "plt.plot(timing,signal_2, c=\"#3ABFE7\")\n",
    "plt.ylim(-1, 1)\n",
    "plt.show()\n",
    "\n",
    "\n",
    "plt.figure(figsize=(12,2))\n",
    "plt.title('Recording 3')\n",
    "plt.plot(timing,signal_3, c=\"#3ABFE7\")\n",
    "plt.ylim(-1, 1)\n",
    "plt.show()\n"
   ]
  },
  {
   "cell_type": "markdown",
   "metadata": {},
   "source": [
    "Now that we've read all three files, we're ready to [zip](https://docs.python.org/3/library/functions.html#zip) them to create our dataset.\n",
    "\n",
    "* Create dataset ```X``` by zipping signal_1, signal_2, and signal_3 into a single list"
   ]
  },
  {
   "cell_type": "code",
   "execution_count": 123,
   "metadata": {
    "ExecuteTime": {
     "end_time": "2025-04-09T23:30:40.840568Z",
     "start_time": "2025-04-09T23:30:40.798600Z"
    }
   },
   "outputs": [
    {
     "data": {
      "text/plain": [
       "[(np.float32(0.026824951), np.float32(0.0047912598), np.float32(0.026824951)),\n",
       " (np.float32(0.03869629), np.float32(0.027435303), np.float32(0.07885742)),\n",
       " (np.float32(0.044555664), np.float32(0.0491333), np.float32(0.12454224)),\n",
       " (np.float32(0.053588867), np.float32(0.07095337), np.float32(0.17340088)),\n",
       " (np.float32(0.059295654), np.float32(0.09222412), np.float32(0.21810913)),\n",
       " (np.float32(0.06762695), np.float32(0.113464355), np.float32(0.26516724)),\n",
       " (np.float32(0.07345581), np.float32(0.1338501), np.float32(0.3086548)),\n",
       " (np.float32(0.0814209), np.float32(0.15429688), np.float32(0.3534851)),\n",
       " (np.float32(0.08746338), np.float32(0.17364502), np.float32(0.3953247)),\n",
       " (np.float32(0.0947876), np.float32(0.19281006), np.float32(0.43722534))]"
      ]
     },
     "execution_count": 123,
     "metadata": {},
     "output_type": "execute_result"
    }
   ],
   "source": [
    "X = list(zip(mix_1_wave, mix_2_wave, mix_3_wave))\n",
    "\n",
    "# Let's peak at what X looks like\n",
    "X[:10]"
   ]
  },
  {
   "cell_type": "code",
   "execution_count": 122,
   "metadata": {
    "ExecuteTime": {
     "end_time": "2025-04-09T23:30:13.968678Z",
     "start_time": "2025-04-09T23:30:13.961719Z"
    }
   },
   "outputs": [
    {
     "data": {
      "text/plain": [
       "array([0.00479141, 0.02743614, 0.0491348 , ..., 0.40852077, 0.42774743,\n",
       "       0.44544816])"
      ]
     },
     "execution_count": 122,
     "metadata": {},
     "output_type": "execute_result"
    }
   ],
   "source": [
    "signal_2"
   ]
  },
  {
   "cell_type": "markdown",
   "metadata": {},
   "source": [
    "We are now ready to run ICA to try to retrieve the original signals.\n",
    "\n",
    "* Import sklearn's [FastICA](http://scikit-learn.org/stable/modules/generated/sklearn.decomposition.FastICA.html) module\n",
    "* Initialize FastICA look for three components\n",
    "* Run the FastICA algorithm using fit_transform on dataset X"
   ]
  },
  {
   "cell_type": "code",
   "execution_count": 134,
   "metadata": {
    "ExecuteTime": {
     "end_time": "2025-04-09T23:33:19.118204Z",
     "start_time": "2025-04-09T23:33:18.971175Z"
    }
   },
   "outputs": [],
   "source": [
    "from sklearn.decomposition import FastICA\n",
    "\n",
    "ica = FastICA(n_components=3)\n",
    "\n",
    "ica_result = ica.fit_transform(X)"
   ]
  },
  {
   "cell_type": "markdown",
   "metadata": {},
   "source": [
    "```ica_result``` now contains the result of FastICA, which we hope are the original signals. It's in the shape:"
   ]
  },
  {
   "cell_type": "code",
   "execution_count": 166,
   "metadata": {
    "ExecuteTime": {
     "end_time": "2025-04-09T23:46:50.370131Z",
     "start_time": "2025-04-09T23:46:50.266605Z"
    }
   },
   "outputs": [],
   "source": [
    "W = ica.components_\n",
    "\n",
    "def calculate_expression(W, X):\n",
    "    n = X.shape[1]\n",
    "    try:\n",
    "        term1 = np.sum(np.log(1 - np.tanh(W.T @ X) ** 2)) / n\n",
    "        term2 = np.log(np.linalg.det(W))\n",
    "        return term1 + term2\n",
    "    except (RuntimeWarning, ValueError) as e:\n",
    "        print(f\"计算过程中出现错误: {e}\")\n",
    "        return None\n",
    "\n",
    "calculate_expression(W, np.array(X).T)\n",
    "\n",
    "ica_result = W @ np.array(X).T"
   ]
  },
  {
   "cell_type": "code",
   "execution_count": 173,
   "metadata": {
    "ExecuteTime": {
     "end_time": "2025-04-10T00:04:11.015355Z",
     "start_time": "2025-04-10T00:04:11.006249Z"
    }
   },
   "outputs": [
    {
     "data": {
      "text/plain": [
       "array([[ -3.6525534 , -10.77950803,   5.5461135 ],\n",
       "       [ -1.91838477,  -0.40331102,   2.33958407],\n",
       "       [-10.53640631,  15.24877586,  -4.79483466]])"
      ]
     },
     "execution_count": 173,
     "metadata": {},
     "output_type": "execute_result"
    }
   ],
   "source": [
    "W"
   ]
  },
  {
   "cell_type": "markdown",
   "metadata": {},
   "source": [
    "Let's split into separate signals and look at them"
   ]
  },
  {
   "cell_type": "code",
   "execution_count": 169,
   "metadata": {
    "ExecuteTime": {
     "end_time": "2025-04-09T23:47:21.758150Z",
     "start_time": "2025-04-09T23:47:21.752965Z"
    }
   },
   "outputs": [],
   "source": [
    "result_signal_1 = ica_result[0,:]\n",
    "result_signal_2 = ica_result[1,:]\n",
    "result_signal_3 = ica_result[2,:]"
   ]
  },
  {
   "cell_type": "code",
   "execution_count": 170,
   "metadata": {
    "ExecuteTime": {
     "end_time": "2025-04-09T23:47:23.190529Z",
     "start_time": "2025-04-09T23:47:23.184401Z"
    }
   },
   "outputs": [
    {
     "data": {
      "text/plain": [
       "array([-8.52765812e-04,  2.72883872e-04, -1.64937416e-03, ...,\n",
       "       -1.40866466e+00, -1.43901551e+00, -1.45994085e+00])"
      ]
     },
     "execution_count": 170,
     "metadata": {},
     "output_type": "execute_result"
    }
   ],
   "source": [
    "result_signal_1"
   ]
  },
  {
   "cell_type": "markdown",
   "metadata": {},
   "source": [
    "Let's plot to see how the wave forms look"
   ]
  },
  {
   "cell_type": "code",
   "execution_count": 171,
   "metadata": {
    "ExecuteTime": {
     "end_time": "2025-04-09T23:47:30.392746Z",
     "start_time": "2025-04-09T23:47:30.239469Z"
    }
   },
   "outputs": [
    {
     "data": {
      "image/png": "[encoded data removed]",
      "text/plain": [
       "<Figure size 1200x200 with 1 Axes>"
      ]
     },
     "metadata": {},
     "output_type": "display_data"
    },
    {
     "data": {
      "image/png": "[encoded data removed]",
      "text/plain": [
       "<Figure size 1200x200 with 1 Axes>"
      ]
     },
     "metadata": {},
     "output_type": "display_data"
    },
    {
     "data": {
      "image/png": "[encoded data removed]",
      "text/plain": [
       "<Figure size 1200x200 with 1 Axes>"
      ]
     },
     "metadata": {},
     "output_type": "display_data"
    }
   ],
   "source": [
    "# Plot Independent Component #1\n",
    "plt.figure(figsize=(12,2))\n",
    "plt.title('Independent Component #1')\n",
    "plt.plot(result_signal_1, c=\"#df8efd\")\n",
    "plt.ylim(-10, 10)\n",
    "plt.show()\n",
    "\n",
    "# Plot Independent Component #2\n",
    "plt.figure(figsize=(12,2))\n",
    "plt.title('Independent Component #2')\n",
    "plt.plot(result_signal_2, c=\"#87de72\")\n",
    "plt.ylim(-10, 10)\n",
    "plt.show()\n",
    "\n",
    "# Plot Independent Component #3\n",
    "plt.figure(figsize=(12,2))\n",
    "plt.title('Independent Component #3')\n",
    "plt.plot(result_signal_3, c=\"#f65e97\")\n",
    "plt.ylim(-10, 10)\n",
    "plt.show()"
   ]
  },
  {
   "cell_type": "markdown",
   "metadata": {},
   "source": [
    "Do some of these look like musical wave forms? \n",
    "\n",
    "The best way to confirm the result is to listen to resulting files. So let's save as wave files and verify. But before we do that, we'll have to:\n",
    "* convert them to integer (so we can save as PCM 16-bit Wave files), otherwise only some media players would be able to play them and others won't\n",
    "* Map the values to the appropriate range for int16 audio. That range is between -32768 and +32767. A basic mapping can be done by multiplying by 32767.\n",
    "* The sounds will be a little faint, we can increase the volume by multiplying by a value like 100"
   ]
  },
  {
   "cell_type": "code",
   "execution_count": 101,
   "metadata": {
    "ExecuteTime": {
     "end_time": "2025-04-09T23:19:18.341885Z",
     "start_time": "2025-04-09T23:19:18.328348Z"
    }
   },
   "outputs": [],
   "source": [
    "from scipy.io import wavfile\n",
    "\n",
    "# Convert to int, map the appropriate range, and increase the volume a little bit\n",
    "result_signal_1_int = np.int16(result_signal_1*32767)\n",
    "result_signal_2_int = np.int16(result_signal_2*32767)\n",
    "result_signal_3_int = np.int16(result_signal_3*32767)\n",
    "\n",
    "\n",
    "\n",
    "if signal.dtype == np.int16:\n",
    "    sf.write(output_path, (signal_float * 32767).astype(np.int16), sr, subtype='PCM_16')\n",
    "elif signal.dtype == np.int32:\n",
    "    sf.write(output_path, (signal_float * 2147483647).astype(np.int32), sr, subtype='PCM_32')\n",
    "else:\n",
    "    sf.write(output_path, signal_float, sr, subtype='FLOAT')\n",
    "\n",
    "\n",
    "# 幅值安全限制（防止削波）\n",
    "# result_signal_1 = np.clip(result_signal_1, -1.0, 1.0)\n",
    "\n",
    "# # 保存为原始格式\n",
    "# if signal.dtype == np.int16:\n",
    "#     sf.write(output_path, (result_signal_1 * 32767).astype(np.int16), sr, subtype='PCM_16')\n",
    "    \n",
    "    \n",
    "    \n",
    "\n",
    "# Write wave files\n",
    "wavfile.write(\"result_signal_1.wav\", fs, result_signal_1_int)\n",
    "wavfile.write(\"result_signal_2.wav\", fs, result_signal_2_int)\n",
    "wavfile.write(\"result_signal_3.wav\", fs, result_signal_3_int)"
   ]
  },
  {
   "cell_type": "code",
   "execution_count": 132,
   "metadata": {
    "ExecuteTime": {
     "end_time": "2025-04-09T23:33:01.181038Z",
     "start_time": "2025-04-09T23:33:01.174161Z"
    }
   },
   "outputs": [
    {
     "data": {
      "text/plain": [
       "array([-0.00820198, -0.09801825, -0.18493008, ..., -0.99080257,\n",
       "       -1.05363356, -1.11289807])"
      ]
     },
     "execution_count": 132,
     "metadata": {},
     "output_type": "execute_result"
    }
   ],
   "source": [
    "result_signal_1"
   ]
  },
  {
   "cell_type": "code",
   "execution_count": 102,
   "metadata": {
    "ExecuteTime": {
     "end_time": "2025-04-09T23:19:42.134505Z",
     "start_time": "2025-04-09T23:19:42.127573Z"
    }
   },
   "outputs": [
    {
     "data": {
      "text/plain": [
       "array([11017, 11977, 10337, ...,  6672,  6855,  9027], dtype=int16)"
      ]
     },
     "execution_count": 102,
     "metadata": {},
     "output_type": "execute_result"
    }
   ],
   "source": [
    "result_signal_1_int"
   ]
  },
  {
   "cell_type": "code",
   "execution_count": 84,
   "metadata": {
    "ExecuteTime": {
     "end_time": "2025-04-09T21:53:53.075744Z",
     "start_time": "2025-04-09T21:53:53.068706Z"
    }
   },
   "outputs": [],
   "source": [
    "import numpy as np\n",
    "import soundfile as sf\n",
    "\n",
    "# 设置音频参数\n",
    "sample_rate = 44100  # 采样率，单位：Hz\n",
    "\n",
    "# 保存音频文件\n",
    "sf.write('result_signal_1.wav', signal_1, sample_rate)\n",
    "\n"
   ]
  },
  {
   "cell_type": "code",
   "execution_count": 77,
   "metadata": {
    "ExecuteTime": {
     "end_time": "2025-04-09T21:52:55.856183Z",
     "start_time": "2025-04-09T21:52:55.847491Z"
    }
   },
   "outputs": [
    {
     "data": {
      "text/plain": [
       "<wave.Wave_read at 0x13f82b040>"
      ]
     },
     "execution_count": 77,
     "metadata": {},
     "output_type": "execute_result"
    }
   ],
   "source": [
    "mix_1_wave"
   ]
  },
  {
   "cell_type": "markdown",
   "metadata": {},
   "source": [
    "The resulting files we have now are: [note: make sure to lower the volume on your speakers first, just in case some problem caused the file to sound like static]\n",
    "* [result_signal_1.wav](result_signal_1.wav)\n",
    "* [result_signal_2.wav](result_signal_2.wav)\n",
    "* [result_signal_3.wav](result_signal_3.wav)\n",
    "\n",
    "\n",
    "\n",
    "Music:\n",
    "* Piano - The Carnival of the Animals - XIII. The Swan (Solo piano version). Performer: Markus Staab\n",
    "* Cello - Cello Suite no. 3 in C, BWV 1009 - I. Prelude. Performer: European Archive"
   ]
  },
  {
   "cell_type": "code",
   "execution_count": null,
   "metadata": {
    "collapsed": true
   },
   "outputs": [],
   "source": [
    "# Read the wave file\n",
    "mix_1_wave = wave.open('./src/datasets/ICA_mix_1.wav', 'r')\n",
    "signal_1_raw = mix_1_wave.readframes(-1)\n",
    "signal_1 = np.fromstring(signal_1_raw, 'int16')\n",
    "signal_1 = signal_1\n",
    "\n",
    "\n",
    "sample_rate = 44100  # 采样率，单位：Hz\n",
    "sf.write('result_signal_1.wav', signal_1, sample_rate)"
   ]
  },
  {
   "cell_type": "code",
   "execution_count": 85,
   "metadata": {
    "ExecuteTime": {
     "end_time": "2025-04-09T21:55:38.206487Z",
     "start_time": "2025-04-09T21:55:38.196364Z"
    }
   },
   "outputs": [],
   "source": [
    "import wave\n",
    "import numpy as np\n",
    "import soundfile as sf\n",
    "\n",
    "# Open wave file\n",
    "mix_wave = wave.open('./src/datasets/ICA_mix_1.wav', 'r')\n",
    "\n",
    "# Get parameters\n",
    "n_channels = mix_wave.getnchannels()\n",
    "sampwidth = mix_wave.getsampwidth()\n",
    "framerate = mix_wave.getframerate()\n",
    "n_frames = mix_wave.getnframes()\n",
    "\n",
    "# Read and convert\n",
    "raw_data = mix_wave.readframes(n_frames)\n",
    "signal = np.frombuffer(raw_data, dtype=np.int16)\n",
    "\n",
    "# If stereo, reshape\n",
    "if n_channels == 2:\n",
    "    signal = signal.reshape(-1, 2)  # shape: (samples, 2)\n",
    "\n",
    "# Write back using soundfile\n",
    "sf.write('result_signal_1.wav', signal, framerate)"
   ]
  },
  {
   "cell_type": "code",
   "execution_count": 86,
   "metadata": {
    "ExecuteTime": {
     "end_time": "2025-04-09T21:57:01.095035Z",
     "start_time": "2025-04-09T21:57:01.085999Z"
    }
   },
   "outputs": [],
   "source": [
    "import wave\n",
    "import numpy as np\n",
    "import soundfile as sf\n",
    "\n",
    "# Open the wave file\n",
    "with wave.open('./src/datasets/ICA_mix_1.wav', 'rb') as wf:\n",
    "    n_channels = wf.getnchannels()\n",
    "    sampwidth = wf.getsampwidth()\n",
    "    framerate = wf.getframerate()\n",
    "    n_frames = wf.getnframes()\n",
    "\n",
    "    # Read audio frames\n",
    "    raw_data = wf.readframes(n_frames)\n",
    "\n",
    "# Convert to int16 audio samples\n",
    "audio = np.frombuffer(raw_data, dtype=np.int16)\n",
    "\n",
    "# If stereo (2 channels), reshape\n",
    "if n_channels == 2:\n",
    "    audio = audio.reshape(-1, 2)\n",
    "\n",
    "# Write back to wav file\n",
    "sf.write('result_signal_1.wav', audio, framerate, subtype='PCM_16')"
   ]
  },
  {
   "cell_type": "code",
   "execution_count": 88,
   "metadata": {
    "ExecuteTime": {
     "end_time": "2025-04-09T21:58:21.255996Z",
     "start_time": "2025-04-09T21:58:21.250212Z"
    }
   },
   "outputs": [
    {
     "data": {
      "text/plain": [
       "44100"
      ]
     },
     "execution_count": 88,
     "metadata": {},
     "output_type": "execute_result"
    }
   ],
   "source": [
    "framerate"
   ]
  },
  {
   "cell_type": "code",
   "execution_count": null,
   "metadata": {},
   "outputs": [],
   "source": [
    "from sklearn.decomposition import FastICA\n",
    "from sklearn.preprocessing import StandardScaler\n",
    "\n",
    "# 假设你有混合信号 mix (shape: n_samples x 2)\n",
    "mix = np.stack([signal1, signal2], axis=1)\n",
    "\n",
    "# 归一化\n",
    "scaler = StandardScaler()\n",
    "mix_norm = scaler.fit_transform(mix)\n",
    "\n",
    "# ICA 拆分\n",
    "ica = FastICA(n_components=2)\n",
    "sources = ica.fit_transform(mix_norm)\n",
    "\n",
    "# 💡 Normalize sources to int16 range for saving\n",
    "sources_scaled = sources / np.max(np.abs(sources))  # [-1, 1]\n",
    "sources_int16 = (sources_scaled * 32767).astype(np.int16)\n",
    "\n",
    "# 保存第一个分离出的声源\n",
    "sf.write('result_ica_source1.wav', sources_int16[:, 0], samplerate=44100)"
   ]
  },
  {
   "cell_type": "code",
   "execution_count": null,
   "metadata": {},
   "outputs": [],
   "source": []
  },
  {
   "cell_type": "code",
   "execution_count": 91,
   "metadata": {
    "ExecuteTime": {
     "end_time": "2025-04-09T22:12:25.704047Z",
     "start_time": "2025-04-09T22:12:25.697820Z"
    }
   },
   "outputs": [
    {
     "name": "stdout",
     "output_type": "stream",
     "text": [
      "Channels: 1, Sample rate: 44100\n"
     ]
    }
   ],
   "source": [
    "import wave\n",
    "\n",
    "# 打开原始的音频文件\n",
    "with wave.open('./src/datasets/ICA_mix_1.wav', 'rb') as wf:\n",
    "    n_channels = wf.getnchannels()\n",
    "    sample_rate = wf.getframerate()\n",
    "    print(f\"Channels: {n_channels}, Sample rate: {sample_rate}\")\n",
    "\n",
    "# # 用来检查数据的范围\n",
    "# import numpy as np\n",
    "# raw_data = wf.readframes(wf.getnframes())\n",
    "# signal = np.frombuffer(raw_data, dtype=np.int16)\n",
    "# print(f\"Signal range: {np.min(signal)}, {np.max(signal)}\")"
   ]
  },
  {
   "cell_type": "code",
   "execution_count": 94,
   "metadata": {
    "ExecuteTime": {
     "end_time": "2025-04-09T22:12:45.834292Z",
     "start_time": "2025-04-09T22:12:45.635975Z"
    }
   },
   "outputs": [],
   "source": [
    "from sklearn.decomposition import FastICA\n",
    "from sklearn.preprocessing import StandardScaler\n",
    "\n",
    "# 假设 X 是混合信号数据 (n_samples, n_channels)\n",
    "# 假设你有 n_channels = 2 作为输入数据\n",
    "\n",
    "# 对数据进行标准化\n",
    "scaler = StandardScaler()\n",
    "X_scaled = scaler.fit_transform(X)\n",
    "\n",
    "# ICA 拆分\n",
    "ica = FastICA(n_components=2)\n",
    "S = ica.fit_transform(X_scaled)\n",
    "\n",
    "# ICA 输出的源信号，缩放到 int16 范围\n",
    "S_int16 = np.int16(S / np.max(np.abs(S)) * 32767)\n",
    "\n",
    "# 保存第一个源信号\n",
    "import soundfile as sf\n",
    "sf.write('result_signal_1.wav', S_int16[:, 0], samplerate=sample_rate)"
   ]
  },
  {
   "cell_type": "code",
   "execution_count": 98,
   "metadata": {
    "ExecuteTime": {
     "end_time": "2025-04-09T22:24:09.316587Z",
     "start_time": "2025-04-09T22:24:09.275529Z"
    }
   },
   "outputs": [
    {
     "ename": "LibsndfileError",
     "evalue": "Error opening 'stereo.wav': System error.",
     "output_type": "error",
     "traceback": [
      "\u001b[0;31m---------------------------------------------------------------------------\u001b[0m",
      "\u001b[0;31mLibsndfileError\u001b[0m                           Traceback (most recent call last)",
      "Cell \u001b[0;32mIn[98], line 26\u001b[0m\n\u001b[1;32m     23\u001b[0m sf\u001b[38;5;241m.\u001b[39mwrite(\u001b[38;5;124m'\u001b[39m\u001b[38;5;124mresult_signal_1.wav\u001b[39m\u001b[38;5;124m'\u001b[39m, signal_int16, sample_rate, subtype\u001b[38;5;241m=\u001b[39m\u001b[38;5;124m'\u001b[39m\u001b[38;5;124mPCM_16\u001b[39m\u001b[38;5;124m'\u001b[39m)\n\u001b[1;32m     25\u001b[0m \u001b[38;5;66;03m# 读取多声道音频\u001b[39;00m\n\u001b[0;32m---> 26\u001b[0m signal, sample_rate \u001b[38;5;241m=\u001b[39m \u001b[43msf\u001b[49m\u001b[38;5;241;43m.\u001b[39;49m\u001b[43mread\u001b[49m\u001b[43m(\u001b[49m\u001b[38;5;124;43m'\u001b[39;49m\u001b[38;5;124;43mstereo.wav\u001b[39;49m\u001b[38;5;124;43m'\u001b[39;49m\u001b[43m)\u001b[49m\n\u001b[1;32m     27\u001b[0m left \u001b[38;5;241m=\u001b[39m signal[:, \u001b[38;5;241m0\u001b[39m]  \u001b[38;5;66;03m# 左声道\u001b[39;00m\n\u001b[1;32m     28\u001b[0m right \u001b[38;5;241m=\u001b[39m signal[:, \u001b[38;5;241m1\u001b[39m]  \u001b[38;5;66;03m# 右声道\u001b[39;00m\n",
      "File \u001b[0;32m~/miniconda3/lib/python3.9/site-packages/soundfile.py:305\u001b[0m, in \u001b[0;36mread\u001b[0;34m(file, frames, start, stop, dtype, always_2d, fill_value, out, samplerate, channels, format, subtype, endian, closefd)\u001b[0m\n\u001b[1;32m    219\u001b[0m \u001b[38;5;28;01mdef\u001b[39;00m \u001b[38;5;21mread\u001b[39m(file, frames\u001b[38;5;241m=\u001b[39m\u001b[38;5;241m-\u001b[39m\u001b[38;5;241m1\u001b[39m, start\u001b[38;5;241m=\u001b[39m\u001b[38;5;241m0\u001b[39m, stop\u001b[38;5;241m=\u001b[39m\u001b[38;5;28;01mNone\u001b[39;00m, dtype\u001b[38;5;241m=\u001b[39m\u001b[38;5;124m'\u001b[39m\u001b[38;5;124mfloat64\u001b[39m\u001b[38;5;124m'\u001b[39m, always_2d\u001b[38;5;241m=\u001b[39m\u001b[38;5;28;01mFalse\u001b[39;00m,\n\u001b[1;32m    220\u001b[0m          fill_value\u001b[38;5;241m=\u001b[39m\u001b[38;5;28;01mNone\u001b[39;00m, out\u001b[38;5;241m=\u001b[39m\u001b[38;5;28;01mNone\u001b[39;00m, samplerate\u001b[38;5;241m=\u001b[39m\u001b[38;5;28;01mNone\u001b[39;00m, channels\u001b[38;5;241m=\u001b[39m\u001b[38;5;28;01mNone\u001b[39;00m,\n\u001b[1;32m    221\u001b[0m          \u001b[38;5;28mformat\u001b[39m\u001b[38;5;241m=\u001b[39m\u001b[38;5;28;01mNone\u001b[39;00m, subtype\u001b[38;5;241m=\u001b[39m\u001b[38;5;28;01mNone\u001b[39;00m, endian\u001b[38;5;241m=\u001b[39m\u001b[38;5;28;01mNone\u001b[39;00m, closefd\u001b[38;5;241m=\u001b[39m\u001b[38;5;28;01mTrue\u001b[39;00m):\n\u001b[1;32m    222\u001b[0m \u001b[38;5;250m    \u001b[39m\u001b[38;5;124;03m\"\"\"Provide audio data from a sound file as NumPy array.\u001b[39;00m\n\u001b[1;32m    223\u001b[0m \n\u001b[1;32m    224\u001b[0m \u001b[38;5;124;03m    By default, the whole file is read from the beginning, but the\u001b[39;00m\n\u001b[0;32m   (...)\u001b[0m\n\u001b[1;32m    303\u001b[0m \n\u001b[1;32m    304\u001b[0m \u001b[38;5;124;03m    \"\"\"\u001b[39;00m\n\u001b[0;32m--> 305\u001b[0m     \u001b[38;5;28;01mwith\u001b[39;00m \u001b[43mSoundFile\u001b[49m\u001b[43m(\u001b[49m\u001b[43mfile\u001b[49m\u001b[43m,\u001b[49m\u001b[43m \u001b[49m\u001b[38;5;124;43m'\u001b[39;49m\u001b[38;5;124;43mr\u001b[39;49m\u001b[38;5;124;43m'\u001b[39;49m\u001b[43m,\u001b[49m\u001b[43m \u001b[49m\u001b[43msamplerate\u001b[49m\u001b[43m,\u001b[49m\u001b[43m \u001b[49m\u001b[43mchannels\u001b[49m\u001b[43m,\u001b[49m\n\u001b[1;32m    306\u001b[0m \u001b[43m                   \u001b[49m\u001b[43msubtype\u001b[49m\u001b[43m,\u001b[49m\u001b[43m \u001b[49m\u001b[43mendian\u001b[49m\u001b[43m,\u001b[49m\u001b[43m \u001b[49m\u001b[38;5;28;43mformat\u001b[39;49m\u001b[43m,\u001b[49m\u001b[43m \u001b[49m\u001b[43mclosefd\u001b[49m\u001b[43m)\u001b[49m \u001b[38;5;28;01mas\u001b[39;00m f:\n\u001b[1;32m    307\u001b[0m         frames \u001b[38;5;241m=\u001b[39m f\u001b[38;5;241m.\u001b[39m_prepare_read(start, stop, frames)\n\u001b[1;32m    308\u001b[0m         data \u001b[38;5;241m=\u001b[39m f\u001b[38;5;241m.\u001b[39mread(frames, dtype, always_2d, fill_value, out)\n",
      "File \u001b[0;32m~/miniconda3/lib/python3.9/site-packages/soundfile.py:690\u001b[0m, in \u001b[0;36mSoundFile.__init__\u001b[0;34m(self, file, mode, samplerate, channels, subtype, endian, format, closefd, compression_level, bitrate_mode)\u001b[0m\n\u001b[1;32m    687\u001b[0m \u001b[38;5;28mself\u001b[39m\u001b[38;5;241m.\u001b[39m_bitrate_mode \u001b[38;5;241m=\u001b[39m bitrate_mode\n\u001b[1;32m    688\u001b[0m \u001b[38;5;28mself\u001b[39m\u001b[38;5;241m.\u001b[39m_info \u001b[38;5;241m=\u001b[39m _create_info_struct(file, mode, samplerate, channels,\n\u001b[1;32m    689\u001b[0m                                  \u001b[38;5;28mformat\u001b[39m, subtype, endian)\n\u001b[0;32m--> 690\u001b[0m \u001b[38;5;28mself\u001b[39m\u001b[38;5;241m.\u001b[39m_file \u001b[38;5;241m=\u001b[39m \u001b[38;5;28;43mself\u001b[39;49m\u001b[38;5;241;43m.\u001b[39;49m\u001b[43m_open\u001b[49m\u001b[43m(\u001b[49m\u001b[43mfile\u001b[49m\u001b[43m,\u001b[49m\u001b[43m \u001b[49m\u001b[43mmode_int\u001b[49m\u001b[43m,\u001b[49m\u001b[43m \u001b[49m\u001b[43mclosefd\u001b[49m\u001b[43m)\u001b[49m\n\u001b[1;32m    691\u001b[0m \u001b[38;5;28;01mif\u001b[39;00m \u001b[38;5;28mset\u001b[39m(mode)\u001b[38;5;241m.\u001b[39missuperset(\u001b[38;5;124m'\u001b[39m\u001b[38;5;124mr+\u001b[39m\u001b[38;5;124m'\u001b[39m) \u001b[38;5;129;01mand\u001b[39;00m \u001b[38;5;28mself\u001b[39m\u001b[38;5;241m.\u001b[39mseekable():\n\u001b[1;32m    692\u001b[0m     \u001b[38;5;66;03m# Move write position to 0 (like in Python file objects)\u001b[39;00m\n\u001b[1;32m    693\u001b[0m     \u001b[38;5;28mself\u001b[39m\u001b[38;5;241m.\u001b[39mseek(\u001b[38;5;241m0\u001b[39m)\n",
      "File \u001b[0;32m~/miniconda3/lib/python3.9/site-packages/soundfile.py:1265\u001b[0m, in \u001b[0;36mSoundFile._open\u001b[0;34m(self, file, mode_int, closefd)\u001b[0m\n\u001b[1;32m   1262\u001b[0m \u001b[38;5;28;01mif\u001b[39;00m file_ptr \u001b[38;5;241m==\u001b[39m _ffi\u001b[38;5;241m.\u001b[39mNULL:\n\u001b[1;32m   1263\u001b[0m     \u001b[38;5;66;03m# get the actual error code\u001b[39;00m\n\u001b[1;32m   1264\u001b[0m     err \u001b[38;5;241m=\u001b[39m _snd\u001b[38;5;241m.\u001b[39msf_error(file_ptr)\n\u001b[0;32m-> 1265\u001b[0m     \u001b[38;5;28;01mraise\u001b[39;00m LibsndfileError(err, prefix\u001b[38;5;241m=\u001b[39m\u001b[38;5;124m\"\u001b[39m\u001b[38;5;124mError opening \u001b[39m\u001b[38;5;132;01m{0!r}\u001b[39;00m\u001b[38;5;124m: \u001b[39m\u001b[38;5;124m\"\u001b[39m\u001b[38;5;241m.\u001b[39mformat(\u001b[38;5;28mself\u001b[39m\u001b[38;5;241m.\u001b[39mname))\n\u001b[1;32m   1266\u001b[0m \u001b[38;5;28;01mif\u001b[39;00m mode_int \u001b[38;5;241m==\u001b[39m _snd\u001b[38;5;241m.\u001b[39mSFM_WRITE:\n\u001b[1;32m   1267\u001b[0m     \u001b[38;5;66;03m# Due to a bug in libsndfile version <= 1.0.25, frames != 0\u001b[39;00m\n\u001b[1;32m   1268\u001b[0m     \u001b[38;5;66;03m# when opening a named pipe in SFM_WRITE mode.\u001b[39;00m\n\u001b[1;32m   1269\u001b[0m     \u001b[38;5;66;03m# See http://github.com/erikd/libsndfile/issues/77.\u001b[39;00m\n\u001b[1;32m   1270\u001b[0m     \u001b[38;5;28mself\u001b[39m\u001b[38;5;241m.\u001b[39m_info\u001b[38;5;241m.\u001b[39mframes \u001b[38;5;241m=\u001b[39m \u001b[38;5;241m0\u001b[39m\n",
      "\u001b[0;31mLibsndfileError\u001b[0m: Error opening 'stereo.wav': System error."
     ]
    }
   ],
   "source": [
    "import soundfile as sf\n",
    "import numpy as np\n",
    "\n",
    "# 读取音频（自动转换为浮点型）\n",
    "signal, sample_rate = sf.read('./src/datasets/ICA_mix_1.wav')\n",
    "\n",
    "# 强制归一化到安全范围 [-1, 1]\n",
    "max_val = np.max(np.abs(signal))\n",
    "if max_val > 1.0:\n",
    "    signal = signal / max_val  # 避免削波\n",
    "\n",
    "# 保存时指定原始位深度（如 16-bit）\n",
    "sf.write('result_signal_1.wav', signal, sample_rate, subtype='PCM_16')\n",
    "\n",
    "# 读取时保留原始位深度信息\n",
    "signal, sample_rate = sf.read('./src/datasets/ICA_mix_1.wav', dtype='int16')  # 直接读取为 int16\n",
    "\n",
    "# 处理过程中转换为浮点运算\n",
    "signal_float = signal.astype('float32') / 32768.0  # int16转float32 [-1,1]\n",
    "\n",
    "# 保存时转回原始格式\n",
    "signal_int16 = np.clip(signal_float * 32767, -32768, 32767).astype('int16')\n",
    "sf.write('result_signal_1.wav', signal_int16, sample_rate, subtype='PCM_16')\n",
    "\n",
    "# 读取多声道音频\n",
    "signal, sample_rate = sf.read('stereo.wav')\n",
    "left = signal[:, 0]  # 左声道\n",
    "right = signal[:, 1]  # 右声道\n",
    "\n",
    "# 处理单声道（示例：左声道降噪）\n",
    "processed_left = your_processing_function(left)\n",
    "\n",
    "# 合并保存\n",
    "processed_signal = np.column_stack((processed_left, right))\n",
    "sf.write('processed_stereo.wav', processed_signal, sample_rate)\n",
    "\n"
   ]
  },
  {
   "cell_type": "code",
   "execution_count": 103,
   "metadata": {
    "ExecuteTime": {
     "end_time": "2025-04-09T23:20:14.572304Z",
     "start_time": "2025-04-09T23:20:14.556518Z"
    }
   },
   "outputs": [],
   "source": [
    "import soundfile as sf\n",
    "import numpy as np\n",
    "\n",
    "def safe_read_write(input_path, output_path):\n",
    "    # 读取音频（保留原始位深度）\n",
    "    signal, sr = sf.read(input_path)\n",
    "    \n",
    "    # 转换为浮点并归一化\n",
    "    if signal.dtype in (np.int16, np.int32, np.uint8):\n",
    "        max_val = np.iinfo(signal.dtype).max\n",
    "        signal_float = signal.astype(np.float32) / max_val\n",
    "    else:\n",
    "        signal_float = signal.astype(np.float32)\n",
    "    \n",
    "    # 幅值安全限制（防止削波）\n",
    "    signal_float = np.clip(signal_float, -1.0, 1.0)\n",
    "    \n",
    "    # 保存为原始格式\n",
    "    if signal.dtype == np.int16:\n",
    "        sf.write(output_path, (signal_float * 32767).astype(np.int16), sr, subtype='PCM_16')\n",
    "    elif signal.dtype == np.int32:\n",
    "        sf.write(output_path, (signal_float * 2147483647).astype(np.int32), sr, subtype='PCM_32')\n",
    "    else:\n",
    "        sf.write(output_path, signal_float, sr, subtype='FLOAT')\n",
    "\n",
    "# 使用示例\n",
    "\n",
    "safe_read_write(\"./src/datasets/ICA_mix_1.wav\", 'result_signal_1.wav')"
   ]
  },
  {
   "cell_type": "code",
   "execution_count": 3,
   "metadata": {
    "ExecuteTime": {
     "end_time": "2025-04-19T23:36:12.879027Z",
     "start_time": "2025-04-19T23:35:50.818186Z"
    }
   },
   "outputs": [
    {
     "name": "stdout",
     "output_type": "stream",
     "text": [
      "Cloning into 'faster-ica'...\n",
      "remote: Enumerating objects: 174, done.\u001b[K\n",
      "remote: Total 174 (delta 0), reused 0 (delta 0), pack-reused 174 (from 1)\u001b[K\n",
      "Receiving objects: 100% (174/174), 44.13 MiB | 2.10 MiB/s, done.\n",
      "Resolving deltas: 100% (85/85), done.\n"
     ]
    },
    {
     "name": "stderr",
     "output_type": "stream",
     "text": [
      "UsageError: Line magic function `%` not found.\n"
     ]
    }
   ],
   "source": [
    "! git clone https://github.com/pierreablin/faster-ica.git\n",
    "% cd faster-ica\n",
    "! pip install -e ."
   ]
  },
  {
   "cell_type": "code",
   "execution_count": 5,
   "metadata": {
    "ExecuteTime": {
     "end_time": "2025-04-19T23:36:38.300381Z",
     "start_time": "2025-04-19T23:36:38.294951Z"
    }
   },
   "outputs": [
    {
     "name": "stdout",
     "output_type": "stream",
     "text": [
      "/Users/caleblee/codes/Julia/MyPack/ICAmm/faster-ica\n"
     ]
    }
   ],
   "source": [
    "cd faster-ica"
   ]
  },
  {
   "cell_type": "code",
   "execution_count": 6,
   "metadata": {
    "ExecuteTime": {
     "end_time": "2025-04-19T23:36:48.972405Z",
     "start_time": "2025-04-19T23:36:48.420157Z"
    }
   },
   "outputs": [
    {
     "name": "stdout",
     "output_type": "stream",
     "text": [
      "Obtaining file:///Users/caleblee/codes/Julia/MyPack/ICAmm/faster-ica\n",
      "  Preparing metadata (setup.py) ... \u001b[?25lerror\n",
      "  \u001b[1;31merror\u001b[0m: \u001b[1msubprocess-exited-with-error\u001b[0m\n",
      "  \n",
      "  \u001b[31m×\u001b[0m \u001b[32mpython setup.py egg_info\u001b[0m did not run successfully.\n",
      "  \u001b[31m│\u001b[0m exit code: \u001b[1;36m1\u001b[0m\n",
      "  \u001b[31m╰─>\u001b[0m \u001b[31m[23 lines of output]\u001b[0m\n",
      "  \u001b[31m   \u001b[0m /Users/caleblee/codes/Julia/MyPack/ICAmm/faster-ica/setup.py:3: DeprecationWarning:\n",
      "  \u001b[31m   \u001b[0m \n",
      "  \u001b[31m   \u001b[0m   `numpy.distutils` is deprecated since NumPy 1.23.0, as a result\n",
      "  \u001b[31m   \u001b[0m   of the deprecation of `distutils` itself. It will be removed for\n",
      "  \u001b[31m   \u001b[0m   Python >= 3.12. For older Python versions it will remain present.\n",
      "  \u001b[31m   \u001b[0m   It is recommended to use `setuptools < 60.0` for those Python versions.\n",
      "  \u001b[31m   \u001b[0m   For more details, see:\n",
      "  \u001b[31m   \u001b[0m     https://numpy.org/devdocs/reference/distutils_status_migration.html\n",
      "  \u001b[31m   \u001b[0m \n",
      "  \u001b[31m   \u001b[0m \n",
      "  \u001b[31m   \u001b[0m   from numpy.distutils.core import setup\n",
      "  \u001b[31m   \u001b[0m Traceback (most recent call last):\n",
      "  \u001b[31m   \u001b[0m   File \"<string>\", line 2, in <module>\n",
      "  \u001b[31m   \u001b[0m   File \"<pip-setuptools-caller>\", line 34, in <module>\n",
      "  \u001b[31m   \u001b[0m   File \"/Users/caleblee/codes/Julia/MyPack/ICAmm/faster-ica/setup.py\", line 3, in <module>\n",
      "  \u001b[31m   \u001b[0m     from numpy.distutils.core import setup\n",
      "  \u001b[31m   \u001b[0m   File \"/Users/caleblee/miniconda3/lib/python3.9/site-packages/numpy/distutils/core.py\", line 24, in <module>\n",
      "  \u001b[31m   \u001b[0m     from numpy.distutils.command import config, config_compiler, \\\n",
      "  \u001b[31m   \u001b[0m   File \"/Users/caleblee/miniconda3/lib/python3.9/site-packages/numpy/distutils/command/config.py\", line 19, in <module>\n",
      "  \u001b[31m   \u001b[0m     from numpy.distutils.mingw32ccompiler import generate_manifest\n",
      "  \u001b[31m   \u001b[0m   File \"/Users/caleblee/miniconda3/lib/python3.9/site-packages/numpy/distutils/mingw32ccompiler.py\", line 27, in <module>\n",
      "  \u001b[31m   \u001b[0m     from distutils.msvccompiler import get_build_version as get_build_msvc_version\n",
      "  \u001b[31m   \u001b[0m ModuleNotFoundError: No module named 'distutils.msvccompiler'\n",
      "  \u001b[31m   \u001b[0m \u001b[31m[end of output]\u001b[0m\n",
      "  \n",
      "  \u001b[1;35mnote\u001b[0m: This error originates from a subprocess, and is likely not a problem with pip.\n",
      "\u001b[1;31merror\u001b[0m: \u001b[1mmetadata-generation-failed\u001b[0m\n",
      "\n",
      "\u001b[31m×\u001b[0m Encountered error while generating package metadata.\n",
      "\u001b[31m╰─>\u001b[0m See above for output.\n",
      "\n",
      "\u001b[1;35mnote\u001b[0m: This is an issue with the package mentioned above, not pip.\n",
      "\u001b[1;36mhint\u001b[0m: See above for details.\n",
      "\u001b[?25h"
     ]
    },
    {
     "ename": "ModuleNotFoundError",
     "evalue": "No module named 'fasterica'",
     "output_type": "error",
     "traceback": [
      "\u001b[0;31m---------------------------------------------------------------------------\u001b[0m",
      "\u001b[0;31mModuleNotFoundError\u001b[0m                       Traceback (most recent call last)",
      "Cell \u001b[0;32mIn[6], line 3\u001b[0m\n\u001b[1;32m      1\u001b[0m get_ipython()\u001b[38;5;241m.\u001b[39msystem(\u001b[38;5;124m'\u001b[39m\u001b[38;5;124m pip install -e .\u001b[39m\u001b[38;5;124m'\u001b[39m)\n\u001b[0;32m----> 3\u001b[0m \u001b[38;5;28;01mimport\u001b[39;00m \u001b[38;5;21;01mfasterica\u001b[39;00m\n",
      "\u001b[0;31mModuleNotFoundError\u001b[0m: No module named 'fasterica'"
     ]
    }
   ],
   "source": [
    "! pip install -e .\n",
    "\n",
    "import fasterica"
   ]
  },
  {
   "cell_type": "code",
   "execution_count": null,
   "metadata": {},
   "outputs": [],
   "source": []
  },
  {
   "cell_type": "code",
   "execution_count": null,
   "metadata": {},
   "outputs": [],
   "source": []
  }
 ],
 "metadata": {
  "anaconda-cloud": {},
  "kernelspec": {
   "display_name": "Python 3 (ipykernel)",
   "language": "python",
   "name": "python3"
  },
  "language_info": {
   "codemirror_mode": {
    "name": "ipython",
    "version": 3
   },
   "file_extension": ".py",
   "mimetype": "text/x-python",
   "name": "python",
   "nbconvert_exporter": "python",
   "pygments_lexer": "ipython3",
   "version": "3.12.3"
  }
 },
 "nbformat": 4,
 "nbformat_minor": 1
}
